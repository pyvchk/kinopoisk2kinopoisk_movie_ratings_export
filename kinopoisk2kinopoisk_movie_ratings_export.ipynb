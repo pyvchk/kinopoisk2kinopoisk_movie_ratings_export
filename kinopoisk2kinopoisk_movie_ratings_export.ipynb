{
 "cells": [
  {
   "cell_type": "markdown",
   "metadata": {
    "pycharm": {
     "name": "#%% md\n"
    }
   },
   "source": [
    "# Получение оценок из старого аккаунта"
   ]
  },
  {
   "cell_type": "code",
   "execution_count": 1,
   "metadata": {
    "pycharm": {
     "is_executing": true,
     "name": "#%%\n"
    }
   },
   "outputs": [],
   "source": [
    "import math\n",
    "import time\n",
    "import re\n",
    "from selenium import webdriver\n",
    "from selenium.webdriver.chrome.service import Service\n",
    "from webdriver_manager.chrome import ChromeDriverManager\n",
    "from selenium.webdriver.common.by import By\n",
    "from selenium.webdriver.common.action_chains import ActionChains\n",
    "\n",
    "with webdriver.Chrome(service=Service(ChromeDriverManager().install())) as driver:\n",
    "    driver.get('https://www.kinopoisk.ru/#login')\n",
    "\n",
    "    # вхожу в аккаунт, из которого хочу перенести оценки и любимые фильмы\n",
    "    # выделяю 40 секунд для авторизации и ввода капчи вручную.\n",
    "\n",
    "    time.sleep(40)\n",
    "\n",
    "    # после входа в систему определяю user_id\n",
    "    user_icon_xpath = '//div[@class=\"styles_root__JgwJ_ styles_lg__KwIl6\"][@data-tid=\"caacc44c\"]'\n",
    "    user_xpath = '//span[@class=\"styles_primaryTitle__lGNUB styles_primaryTitleDefaultAccount__a0_6V\"] \\\n",
    "                 [@data-tid=\"ecca3393\"]'\n",
    "    user_icon = driver.find_element(By.XPATH, user_icon_xpath)\n",
    "    ActionChains(driver).move_to_element(user_icon) \\\n",
    "                        .move_to_element(driver.find_element(By.XPATH, user_xpath)) \\\n",
    "                        .click().perform()\n",
    "    user_id = re.search(r'\\d+', driver.current_url)[0]\n",
    "\n",
    "    # захожу на первую страницу с оценками, считаю количество страниц, по которым надо будет итерироваться\n",
    "\n",
    "    ratings_page = 'https://www.kinopoisk.ru/user/' + user_id + \\\n",
    "                   '/votes/list/ord/date/page/{}/#list'\n",
    "    driver.get(ratings_page.format(1))\n",
    "    num_movies_selector = 'tbody > tr > td > h2'\n",
    "    num_movies = driver.find_element(By.CSS_SELECTOR, num_movies_selector).text.split()[2][1:-1]\n",
    "    num_pages = math.ceil(int(num_movies) / 50)\n",
    "\n",
    "    # скачиваю просмотренные фильмы и выставленные им оценки\n",
    "\n",
    "    movie_link_selector = 'div.nameRus > a'\n",
    "    movie_rating_selector = 'div.selects.vote_widget span'\n",
    "    all_links = []\n",
    "    all_ratings = []\n",
    "\n",
    "    for i in range(1, num_pages + 1):\n",
    "        driver.get(ratings_page.format(i))\n",
    "        movie_links = driver.find_elements(By.CSS_SELECTOR, movie_link_selector)\n",
    "        ratings = driver.find_elements(By.CSS_SELECTOR, movie_rating_selector)\n",
    "        all_links.extend([link.get_attribute('href') for link in movie_links])\n",
    "        all_ratings.extend([item.text for item in ratings])\n",
    "    all_ratings = [rate for rate in all_ratings if rate != '']"
   ]
  },
  {
   "cell_type": "markdown",
   "metadata": {
    "pycharm": {
     "name": "#%% md\n"
    }
   },
   "source": [
    "# Проставление полученных оценок в новом аккаунте"
   ]
  },
  {
   "cell_type": "code",
   "execution_count": 4,
   "metadata": {
    "pycharm": {
     "name": "#%%\n"
    }
   },
   "outputs": [],
   "source": [
    "from selenium.webdriver.support.ui import WebDriverWait\n",
    "from selenium.webdriver.support import expected_conditions as es\n",
    "from selenium.common.exceptions import TimeoutException\n",
    "\n",
    "with webdriver.Chrome(service=Service(ChromeDriverManager().install())) as driver:\n",
    "    driver.get('https://www.kinopoisk.ru/#login')\n",
    "\n",
    "    # выделяю 40 секунд для авторизации и ввода капчи вручную\n",
    "\n",
    "    time.sleep(40)\n",
    "\n",
    "    # вхожу в аккаунт, в который хочу перенести оценки и любимые фильмы\n",
    "    # проставляю оценки all_ratings фильмам по ссылкам из списка all_links\n",
    "    grade_button_xpath = '//div[@class=\"style_root__tg2Nx\"][@data-tid=\"410c06ef\"]'\n",
    "    change_grade_button_xpath = '//span[@class=\"style_text__1QpiT\"][@data-tid=\"e29193ab\"]'\n",
    "\n",
    "    for page, rating in zip(reversed(all_links), reversed(all_ratings)):\n",
    "        driver.get(page)\n",
    "        star_button_xpath = f'//div[@data-tid=\"48af2382\"]/button[{rating}]'\n",
    "        try:\n",
    "            grade_button = WebDriverWait(driver, 7).until(\n",
    "                            es.presence_of_element_located(\n",
    "                                (By.XPATH, grade_button_xpath)))\n",
    "            grade_button.click()\n",
    "        except TimeoutException:\n",
    "            raise TimeoutException(f'Dont find grade_button {page}')\n",
    "        try:\n",
    "            change_grade_button = WebDriverWait(driver, 1).until(\n",
    "                                    es.presence_of_element_located(\n",
    "                                        (By.XPATH, change_grade_button_xpath)))\n",
    "            change_grade_button.click()\n",
    "        except TimeoutException:\n",
    "            pass\n",
    "        try:\n",
    "            star_button = WebDriverWait(driver, 1).until(\n",
    "                            es.presence_of_element_located(\n",
    "                                (By.XPATH, star_button_xpath)))\n",
    "            webdriver.ActionChains(driver).move_to_element(star_button).click(star_button).perform()\n",
    "        except TimeoutException:\n",
    "            raise TimeoutException(f'Failed to rate movie {page}')"
   ]
  },
  {
   "cell_type": "code",
   "execution_count": null,
   "metadata": {},
   "outputs": [],
   "source": []
  },
  {
   "cell_type": "code",
   "execution_count": null,
   "metadata": {},
   "outputs": [],
   "source": []
  }
 ],
 "metadata": {
  "kernelspec": {
   "display_name": "Python 3 (ipykernel)",
   "language": "python",
   "name": "python3"
  },
  "language_info": {
   "codemirror_mode": {
    "name": "ipython",
    "version": 3
   },
   "file_extension": ".py",
   "mimetype": "text/x-python",
   "name": "python",
   "nbconvert_exporter": "python",
   "pygments_lexer": "ipython3",
   "version": "3.9.5"
  }
 },
 "nbformat": 4,
 "nbformat_minor": 2
}
